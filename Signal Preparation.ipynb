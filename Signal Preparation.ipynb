{
 "cells": [
  {
   "cell_type": "markdown",
   "metadata": {},
   "source": [
    "# Notebook for preparing data features for analysis"
   ]
  },
  {
   "cell_type": "code",
   "execution_count": 1,
   "metadata": {},
   "outputs": [],
   "source": [
    "import sys\n",
    "import os\n",
    "import time\n",
    "import datetime as dt\n",
    "import math\n",
    "import numpy as np \n",
    "import scipy as sp\n",
    "import pandas as pd\n",
    "import matplotlib.pyplot as plt\n",
    "import seaborn as sns\n",
    "import json \n",
    "import librosa\n",
    "from IPython.display import Audio\n",
    "import mir_eval.sonify\n",
    "from pydub import AudioSegment\n",
    "from matplotlib.transforms import ScaledTranslation\n",
    "\n",
    "\n",
    "from scipy.signal import butter, filtfilt, argrelextrema\n",
    "from scipy import interpolate\n",
    "from scipy.interpolate import interp1d"
   ]
  },
  {
   "cell_type": "code",
   "execution_count": 2,
   "metadata": {},
   "outputs": [],
   "source": [
    "%load_ext autoreload\n",
    "%autoreload 1\n",
    "%aimport rp2"
   ]
  },
  {
   "cell_type": "code",
   "execution_count": 7,
   "metadata": {},
   "outputs": [],
   "source": [
    "def Part_maps(Entries):\n",
    "    parts_on = {}\n",
    "    cols = Entries.columns\n",
    "    for c in cols:\n",
    "        if Entries[c].isna().sum()>1:\n",
    "            Entries.loc[Entries[c].notna(),['mm',c]]\n",
    "            V = Entries.loc[Entries[c].notna(),['mm',c]]\n",
    "            parts_on[c]=V.rename(columns = {c:'Playing'})\n",
    "            D = pd.DataFrame(index = parts_on[c].index )\n",
    "            for i in D.index:\n",
    "                if parts_on[c].loc[i,'Playing'] == 1.0:\n",
    "                    D[i] = D.index-i\n",
    "            D[D>=0] = np.nan\n",
    "            D['Pre'] = D.max(axis=1)\n",
    "            D.loc[parts_on[c].loc[:,'Playing'] == 1.0,'Pre'] = 0.0\n",
    "            parts_on[c]['Pre'] = D['Pre']\n",
    "            parts_on[c]['Post'] = parts_on[c]['Pre'].diff()\n",
    "            parts_on[c].loc[parts_on[c]['Post']<=0,'Post'] = 0.0\n",
    "            parts_on[c][parts_on[c].isna()] = 0.0\n",
    "    return parts_on\n",
    "def resp_shade(ax,breaths,cat,colour):\n",
    "    # shading plots\n",
    "    resps_to_shade = breaths.query('Categories==@cat')\n",
    "    for i,r in resps_to_shade.iterrows():\n",
    "        ax.axvspan(r['In'],r['In']+r['Period_T'], facecolor=colour,alpha = 0.2)\n",
    "    return\n",
    "\n",
    "def resp_shaded(ax,breaths,cat,colour,alph = 0.4):\n",
    "    # shading plots\n",
    "    resps_to_shade = breaths.query('Categories==@cat')\n",
    "    for i,r in resps_to_shade.iterrows():\n",
    "        ax.axvspan(r['In'],r['In']+r['Insp_T'], facecolor=colour,alpha = alph )\n",
    "        ax.axvspan(r['Ex'],r['Ex']+r['Exp_T'], facecolor=colour,alpha = alph - 0.2)\n",
    "    return\n",
    "\n",
    "def quickcarresp(Breaths):\n",
    "    Insp_seq = Breaths.copy()#.query('In > @xlim[0] and In < @xlim[1]').copy().reset_index(drop=True)\n",
    "    Insp_seq.loc[:,'dPT'] = np.log(Insp_seq['Period_T']/Insp_seq['Period_T'].shift(1)).abs()\n",
    "    Insp_seq.loc[:,'dIT'] = np.log(Insp_seq['Insp_T']/Insp_seq['Insp_T'].shift(1)).abs()\n",
    "    Insp_seq.loc[:,'dID'] = np.log(Insp_seq['IDepth']/Insp_seq['IDepth'].shift(1)).abs()\n",
    "    Insp_seq.loc[:,'relD'] = np.log(Insp_seq['IDepth']/Insp_seq['IDepth'].rolling(5,center=True).median()).abs()\n",
    "    \n",
    "    depth_thresh = Insp_seq['IDepth'].median()*2\n",
    "    low_D =  Insp_seq['IDepth'].quantile(0.25)\n",
    "    mD =  Insp_seq['IDepth'].median()\n",
    "    mT =  Insp_seq['Period_T'].median() \n",
    "    mIT =  Insp_seq['Insp_T'].median()\n",
    "    \n",
    "    Insp_seq['Categories']='Disturbed'\n",
    "\n",
    "    V =  Insp_seq.query('Insp_T>0.5 and Period_T>2 and IDepth<3*@low_D and IE_Ratio>0.2 and dPT<0.5 and dID<0.5')\n",
    "    Insp_seq.loc[V.index,'Categories']='Quiet'\n",
    "    \n",
    "    return Insp_seq"
   ]
  },
  {
   "cell_type": "code",
   "execution_count": 9,
   "metadata": {},
   "outputs": [],
   "source": [
    "data_out_loc = './outfiles/'"
   ]
  },
  {
   "cell_type": "markdown",
   "metadata": {},
   "source": [
    "# Audio features"
   ]
  },
  {
   "cell_type": "code",
   "execution_count": 13,
   "metadata": {},
   "outputs": [],
   "source": [
    "audio_loc = '/Users/finn/Desktop/Current_Projects/Stavanger/Data2024/Audio/Piece_wise/'\n",
    "\n",
    "aud_file = audio_loc +'C5_Saev_10.mp3'\n",
    "y, sr = librosa.load(aud_file)\n",
    "rms =librosa.feature.rms(y=y, frame_length=256, hop_length=64, center=True, pad_mode='constant')\n",
    "times = librosa.times_like(rms,sr = sr, hop_length=64)\n",
    "rms_sf = int(sr/64)\n",
    "aud_df = pd.DataFrame(index = times-1 ) \n",
    "aud_df['rms'] = rms[0]\n",
    "\n",
    "buff = 10\n",
    "C = librosa.cqt(y=y, sr=sr)\n",
    "C_db = librosa.amplitude_to_db(np.abs(C), ref=np.max)\n",
    "times = (-buff+np.arange(len(C_db[0]))*(times[-1])/len(C_db[0])).round(3)\n",
    "pitchticks = np.arange(7,84,12)\n",
    "pitchticklabels=['C1','C2','C3','C4','C5','C6','C7']\n",
    "C_df = pd.DataFrame(data=C_db).transpose()\n",
    "C_df = C_df[C_df.columns[::-1]]\n",
    "C_df.set_index(times,inplace = True)"
   ]
  },
  {
   "cell_type": "code",
   "execution_count": 12,
   "metadata": {},
   "outputs": [
    {
     "data": {
      "text/plain": [
       "270.08"
      ]
     },
     "execution_count": 12,
     "metadata": {},
     "output_type": "execute_result"
    }
   ],
   "source": [
    "# 249.413 # 252.080\n",
    "times[-1]"
   ]
  },
  {
   "cell_type": "code",
   "execution_count": 14,
   "metadata": {},
   "outputs": [],
   "source": [
    "C_df.to_csv(data_out_loc + 'C5_Saev_10_cqt.csv')"
   ]
  },
  {
   "cell_type": "code",
   "execution_count": 17,
   "metadata": {},
   "outputs": [],
   "source": [
    "audio_loc = '/Users/finn/Desktop/Current_Projects/KORK/Data/Audio/Pieces/'\n",
    "buff = 10\n",
    "aud_file = audio_loc +'C1_Sae1_10.mp3' #C1_Sae1_1.mp3\n",
    "y, sr = librosa.load(aud_file)\n",
    "rms =librosa.feature.rms(y=y, frame_length=256, hop_length=64, center=True, pad_mode='constant')\n",
    "times = librosa.times_like(rms,sr = sr, hop_length=64)\n",
    "rms_sf = int(sr/64)\n",
    "aud_df = pd.DataFrame(index = times-buff ) # + M_times.loc[segtag,'Start']\n",
    "aud_df['rms'] = rms[0]\n",
    "\n",
    "C = librosa.cqt(y=y, sr=sr)\n",
    "C_db = librosa.amplitude_to_db(np.abs(C), ref=np.max)\n",
    "times = (-buff+np.arange(len(C_db[0]))*(2*buff+times[-1])/len(C_db[0])).round(3)\n",
    "pitchticks = np.arange(7,84,12)\n",
    "pitchticklabels=['C1','C2','C3','C4','C5','C6','C7']\n",
    "C_df = pd.DataFrame(data=C_db).transpose()\n",
    "C_df = C_df[C_df.columns[::-1]]\n",
    "C_df.set_index(times,inplace = True)"
   ]
  },
  {
   "cell_type": "code",
   "execution_count": 18,
   "metadata": {},
   "outputs": [],
   "source": [
    "C_df.to_csv(data_out_loc + 'KORK_Sae1_10_cqt.csv')"
   ]
  }
 ],
 "metadata": {
  "kernelspec": {
   "display_name": "Python 3",
   "language": "python",
   "name": "python3"
  },
  "language_info": {
   "codemirror_mode": {
    "name": "ipython",
    "version": 3
   },
   "file_extension": ".py",
   "mimetype": "text/x-python",
   "name": "python",
   "nbconvert_exporter": "python",
   "pygments_lexer": "ipython3",
   "version": "3.9.0"
  }
 },
 "nbformat": 4,
 "nbformat_minor": 4
}
